{
 "cells": [
  {
   "cell_type": "code",
   "execution_count": null,
   "metadata": {
    "application/vnd.databricks.v1+cell": {
     "cellMetadata": {
      "byteLimit": 2048000,
      "rowLimit": 10000
     },
     "inputWidgets": {},
     "nuid": "6b5198fe-fe9e-4e2a-b4f9-3cfc98417c12",
     "showTitle": false,
     "title": ""
    }
   },
   "outputs": [],
   "source": [
    "pip install azure-identity"
   ]
  },
  {
   "cell_type": "code",
   "execution_count": null,
   "metadata": {
    "application/vnd.databricks.v1+cell": {
     "cellMetadata": {
      "byteLimit": 2048000,
      "rowLimit": 10000
     },
     "inputWidgets": {},
     "nuid": "8bff4154-dfd4-4e44-971b-1c7cf0532ba9",
     "showTitle": false,
     "title": ""
    }
   },
   "outputs": [],
   "source": [
    "pip install openai"
   ]
  },
  {
   "cell_type": "code",
   "execution_count": null,
   "metadata": {
    "application/vnd.databricks.v1+cell": {
     "cellMetadata": {
      "byteLimit": 2048000,
      "rowLimit": 10000
     },
     "inputWidgets": {},
     "nuid": "c84780d9-4067-4bac-ad4b-49ae18de37a9",
     "showTitle": false,
     "title": ""
    }
   },
   "outputs": [],
   "source": [
    "\n",
    "import os\n",
    "\n",
    "# Specify the name of the secret scope and key vault secret name\n",
    "scope_name = \"akv\"\n",
    "\n",
    "# Get the secret value\n",
    "OPENAI_APP_ID = dbutils.secrets.get(scope=scope_name, key=\"openai-app-id\") # replace key name with actual key name from key vault\n",
    "OPENAI_APP_SECRET = dbutils.secrets.get(scope=scope_name, key=\"openai-app-secret\") # replace key name with actual key name from key vault\n",
    "TENANT_ID = dbutils.secrets.get(scope=scope_name, key=\"openai-tenantid\") # replace key name with actual key name from key vault\n",
    "\n",
    "# Use the secret value in your code\n",
    "print(OPENAI_APP_ID)\n",
    "print(OPENAI_APP_SECRET)\n",
    "print(TENANT_ID)\n",
    "\n",
    "os.environ[\"AZURE_TENANT_ID\"] = TENANT_ID\n",
    "os.environ[\"AZURE_CLIENT_ID\"] = OPENAI_APP_ID\n",
    "os.environ[\"AZURE_CLIENT_SECRET\"] = OPENAI_APP_SECRET\n"
   ]
  },
  {
   "cell_type": "code",
   "execution_count": null,
   "metadata": {
    "application/vnd.databricks.v1+cell": {
     "cellMetadata": {
      "byteLimit": 2048000,
      "rowLimit": 10000
     },
     "inputWidgets": {},
     "nuid": "fa51ecad-cbab-453e-b318-875761f8f14f",
     "showTitle": false,
     "title": ""
    }
   },
   "outputs": [],
   "source": [
    "from azure.identity import DefaultAzureCredential\n",
    "import openai\n",
    "\n",
    "# Request credential\n",
    "default_credential = DefaultAzureCredential()\n",
    "token = default_credential.get_token(\"https://cognitiveservices.azure.com/.default\")\n",
    "\n",
    "# Setup parameters\n",
    "openai.api_type = \"azure_ad\"\n",
    "openai.api_key = token.token\n",
    "openai.api_base = \"https://anildwaopenai2.openai.azure.com/\"\n",
    "openai.api_version = \"2023-03-15-preview\""
   ]
  },
  {
   "cell_type": "code",
   "execution_count": null,
   "metadata": {
    "application/vnd.databricks.v1+cell": {
     "cellMetadata": {
      "byteLimit": 2048000,
      "rowLimit": 10000
     },
     "inputWidgets": {},
     "nuid": "48f38c19-acfc-490e-bdb0-3c7aa1d5dffa",
     "showTitle": false,
     "title": ""
    }
   },
   "outputs": [],
   "source": [
    "completion = openai.ChatCompletion.create(deployment_id=\"chatgpt\", messages=[{\"role\": \"user\", \"content\": \"Hello world!\"}])\n",
    "print(completion.choices[0].message.content)"
   ]
  }
 ],
 "metadata": {
  "application/vnd.databricks.v1+notebook": {
   "dashboards": [],
   "language": "python",
   "notebookMetadata": {
    "pythonIndentUnit": 2
   },
   "notebookName": "openai",
   "notebookOrigID": 1999595736424843,
   "widgets": {}
  },
  "language_info": {
   "name": "python"
  }
 },
 "nbformat": 4,
 "nbformat_minor": 0
}
