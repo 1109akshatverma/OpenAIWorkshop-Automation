{
 "cells": [
  {
   "cell_type": "code",
   "execution_count": 1,
   "metadata": {},
   "outputs": [],
   "source": [
    "import pandas as pd\n",
    "import re\n",
    "import openai\n",
    "import re\n",
    "import requests\n",
    "import pandas as pd\n",
    "from openai.embeddings_utils import get_embedding, cosine_similarity\n",
    "\n",
    "API_KEY = \"\"\n",
    "RESOURCE_ENDPOINT = \"\" \n",
    "\n",
    "openai.api_type = \"azure\"\n",
    "openai.api_key = API_KEY\n",
    "openai.api_base = RESOURCE_ENDPOINT\n",
    "#Note: The openai-python library support for Azure OpenAI is in preview.\n",
    "openai.api_version = \"2023-03-15-preview\"\n",
    "\n"
   ]
  },
  {
   "attachments": {},
   "cell_type": "markdown",
   "metadata": {},
   "source": [
    "### Data generation (Skip this step if data is already generated )"
   ]
  },
  {
   "cell_type": "code",
   "execution_count": 9,
   "metadata": {},
   "outputs": [],
   "source": [
    "user_message = \"\"\n",
    "def generate_titles():\n",
    "    user_message =f\"\"\" \n",
    "    generate 100 titles of customer support articles in your industry, focusing on the areas of payroll and HR that support agent can look up to answer questions from customers who are employees with payroll managed by ADP.\n",
    "    Output data into a list \n",
    " \n",
    "\"\"\"\n",
    "\n",
    "    response = openai.ChatCompletion.create(\n",
    "        engine=\"gpt-35-turbo\", # engine = \"deployment_name\".\n",
    "        messages=[\n",
    "            {\"role\": \"system\", \"content\": \"You are a customer support agent for ADP company\"},\n",
    "            {\"role\": \"user\", \"content\":user_message },\n",
    "        ]\n",
    "    )\n",
    "    return response['choices'][0]['message']['content']\n",
    "            \n",
    "\n",
    "titles = generate_titles()"
   ]
  },
  {
   "cell_type": "code",
   "execution_count": 10,
   "metadata": {},
   "outputs": [],
   "source": [
    "titles = titles.split(\"\\n\")"
   ]
  },
  {
   "cell_type": "code",
   "execution_count": 12,
   "metadata": {},
   "outputs": [
    {
     "data": {
      "text/plain": [
       "['1. Understanding Your Paycheck: A Guide for ADP Payroll Customers ',\n",
       " '2. How to Set Up Direct Deposit with ADP ',\n",
       " '3. ADP Payroll: Everything You Need to Know ',\n",
       " '4. Understanding Your W-2: A Guide for ADP Payroll Customers ',\n",
       " '5. How to Access Your ADP Payroll Account Online ',\n",
       " '6. Updating Your Personal Information in ADP Payroll ',\n",
       " '7. ADP Payroll: Troubleshooting Common Errors ',\n",
       " '8. Understanding Your ADP Pay Stub: What You Need to Know ',\n",
       " '9. ADP Payroll Taxes: What You Need to Know ',\n",
       " '10. How to Change Your Tax Withholdings with ADP Payroll ']"
      ]
     },
     "execution_count": 12,
     "metadata": {},
     "output_type": "execute_result"
    }
   ],
   "source": [
    "titles[:10]"
   ]
  },
  {
   "cell_type": "code",
   "execution_count": 13,
   "metadata": {},
   "outputs": [],
   "source": [
    "import time\n",
    "def generate_article(title):\n",
    "    user_message =f\"\"\" \n",
    "    given this title of an article \"{title}\" that support agents can look up to answer questions from customers who are employees with payroll managed by ADP.\n",
    "    Generate detail content of the article \n",
    " \n",
    "\"\"\"\n",
    "    i=0\n",
    "    while i<5:\n",
    "        try:\n",
    "            response = openai.ChatCompletion.create(\n",
    "                engine=\"gpt-35-turbo\", # engine = \"deployment_name\".\n",
    "                messages=[\n",
    "                    {\"role\": \"system\", \"content\": \"You are a customer support agent for ADP company\"},\n",
    "                    {\"role\": \"user\", \"content\":user_message },\n",
    "                ]\n",
    "            )\n",
    "            return response['choices'][0]['message']['content']\n",
    "        except:\n",
    "            i+=1\n",
    "            time.sleep(5)\n",
    "            \n",
    "\n",
    "contents =[]\n",
    "for title in titles:\n",
    "    contents.append(generate_article(title))"
   ]
  },
  {
   "cell_type": "code",
   "execution_count": 15,
   "metadata": {},
   "outputs": [],
   "source": [
    "import os\n",
    "folder_path =\"../../../data/agent_assistant\"\n",
    "os.makedirs(folder_path, exist_ok=True)\n",
    "i=0\n",
    "articles ={}\n",
    "for title, content in zip(titles, contents):\n",
    "    file_name = f\"article_{i}\"\n",
    "    file_content = title+\"\\n\\n\"+content\n",
    "\n",
    "    with open(os.path.join(folder_path,file_name), 'w') as file:\n",
    "        file.write(file_content)\n",
    "\n",
    "    articles[file_name]= file_content\n",
    "    i+=1\n",
    "\n"
   ]
  },
  {
   "attachments": {},
   "cell_type": "markdown",
   "metadata": {},
   "source": [
    "#Generate embeddings"
   ]
  },
  {
   "cell_type": "code",
   "execution_count": 27,
   "metadata": {},
   "outputs": [],
   "source": [
    "openai.api_version = \"2022-12-01\"\n",
    "\n",
    "articles_emb = {article[0]:get_embedding(article[1], engine = 'text-embedding-ada-002')for article in list(articles.items())}"
   ]
  },
  {
   "attachments": {},
   "cell_type": "markdown",
   "metadata": {},
   "source": [
    "### Persist data"
   ]
  },
  {
   "cell_type": "code",
   "execution_count": 32,
   "metadata": {},
   "outputs": [],
   "source": [
    "import json\n",
    "with open(os.path.join(folder_path,\"articles_emb.json\"), \"w\") as fp:\n",
    "    json.dump(articles_emb,fp) \n",
    "\n",
    "with open(os.path.join(folder_path,\"articles.json\"), \"w\") as fp:\n",
    "    json.dump(articles,fp) \n"
   ]
  },
  {
   "attachments": {},
   "cell_type": "markdown",
   "metadata": {},
   "source": [
    "## Assistant Design"
   ]
  },
  {
   "attachments": {},
   "cell_type": "markdown",
   "metadata": {},
   "source": [
    "### Load data"
   ]
  },
  {
   "cell_type": "code",
   "execution_count": 3,
   "metadata": {},
   "outputs": [],
   "source": [
    "import json\n",
    "import os\n",
    "folder_path =\"../../../data/agent_assistant\"\n",
    "with open(os.path.join(folder_path, \"articles_emb.json\"), \"r\") as file:\n",
    "    articles_emb = json.load(file)\n",
    "with open(os.path.join(folder_path, \"articles.json\"), \"r\") as file:\n",
    "    articles = json.load(file)"
   ]
  },
  {
   "attachments": {},
   "cell_type": "markdown",
   "metadata": {},
   "source": [
    "### 1. Tool to generate conversation"
   ]
  },
  {
   "attachments": {},
   "cell_type": "markdown",
   "metadata": {},
   "source": []
  },
  {
   "cell_type": "code",
   "execution_count": 4,
   "metadata": {},
   "outputs": [],
   "source": [
    "openai.api_version = \"2023-03-15-preview\"\n",
    "\n",
    "user_message = \"\"\n",
    "def generate_conversation():\n",
    "    user_message =f\"\"\" \n",
    "    Generate a phone conversation between an customer's employee and an ADP support agent in the area of HR and Payroll. The employee has question and the support agent tried to identity the problems and \n",
    "    and take time to use different search tool to come up with answer to the employee.\n",
    "    Your response:\n",
    " \n",
    "\"\"\"\n",
    "    system_message = \"\"\"\n",
    "    You are a customer support agent for ADP company. \n",
    "\n",
    "    \"\"\"\n",
    "\n",
    "    response = openai.ChatCompletion.create(\n",
    "        engine=\"gpt-35-turbo\", # engine = \"deployment_name\".\n",
    "        messages=[\n",
    "            {\"role\": \"system\", \"content\": system_message},\n",
    "            {\"role\": \"user\", \"content\":user_message },\n",
    "        ]\n",
    "    )\n",
    "    return response['choices'][0]['message']['content']\n",
    "            \n",
    "\n",
    "conversation =generate_conversation()"
   ]
  },
  {
   "cell_type": "code",
   "execution_count": 5,
   "metadata": {},
   "outputs": [
    {
     "data": {
      "text/plain": [
       "'Support Agent: \"Hello, thank you for calling ADP support. This is Jessica. How may I assist you today?\"\\n\\nEmployee: \"Hi, this is Hannah from ABC Inc. I have a question about my paycheck.\"\\n\\nSupport Agent: \"Sure, I\\'ll be happy to help you with that. Can you please confirm your name and employee ID?\"\\n\\nEmployee: \"Yes, my name is Hannah and my employee ID is 1234.\"\\n\\nSupport Agent: \"Great, thank you. What is your question about your paycheck?\"\\n\\nEmployee: \"I received a paycheck but my hours seem incorrect. What should I do?\"\\n\\nSupport Agent: \"I\\'m sorry to hear that. Can you please tell me the hours you worked and what was listed on the paycheck?\"\\n\\nEmployee: \"I worked 40 hours but the paycheck only shows 32 hours.\"\\n\\nSupport Agent: \"I see. Let me check your account and see what I can find. Would you mind holding for a moment while I search for this information?\"\\n\\nEmployee: \"No problem. Thank you.\"\\n\\nSupport Agent: \"Thank you for your patience. Based on my research, it seems like there was a mistake in the system and your hours were not accurately recorded. I will send a request to the HR department to correct this error, and you should expect to see the missing hours added to your next paycheck.\"\\n\\nEmployee: \"Okay, thank you. How long will it take for the correction to be made?\"\\n\\nSupport Agent: \"It should take no longer than a week for the corrections to be made. Is there anything else I can help you with?\"\\n\\nEmployee: \"No that\\'s all. Thank you for your help.\"\\n\\nSupport Agent: \"You\\'re welcome, Hannah. Don\\'t hesitate to call us back if you have any other concerns.\"'"
      ]
     },
     "execution_count": 5,
     "metadata": {},
     "output_type": "execute_result"
    }
   ],
   "source": [
    "conversation"
   ]
  },
  {
   "attachments": {},
   "cell_type": "markdown",
   "metadata": {},
   "source": [
    "### 2. Tool to extract problems from conversation. "
   ]
  },
  {
   "cell_type": "code",
   "execution_count": 24,
   "metadata": {},
   "outputs": [
    {
     "data": {
      "text/plain": [
       "'[\\n  {\\n    \"problem\": \"Employee\\'s paycheck has incorrect hours\",\\n    \"search_query\": \"How to correct inaccurate hours on paycheck\"\\n  }\\n]'"
      ]
     },
     "execution_count": 24,
     "metadata": {},
     "output_type": "execute_result"
    }
   ],
   "source": [
    "openai.api_version = \"2023-03-15-preview\"\n",
    "\n",
    "user_message = \"\"\n",
    "def extract_problems(conversation):\n",
    "    user_message =f\"\"\" \n",
    "    Follow this on going conversation below and extract problems that each party may need help with and formulate the search query to the knowledge base search tool.\n",
    "    <<conversattion>>\n",
    "    {conversation}\n",
    "    <<conversattion>>\n",
    "    Output your response in JSON format {{\"problem\":\"summary of problem\", \"search_query\":\"content of search query\"}}\n",
    "    There can be more than 1 problem(s)\n",
    "    Output just JSON, nothing else.\n",
    "    Your response:\n",
    " \n",
    "\"\"\"\n",
    "    system_message = \"\"\"\n",
    "    You are a senior customer support agent for ADP company. You listen to the conversation between an agent and a customer and assist the agent to resolve the problem.\n",
    "    You are given access to knowledge base search tool to find knowledge needed to find answer to questions. \n",
    "\n",
    "    \"\"\"\n",
    "\n",
    "    response = openai.ChatCompletion.create(\n",
    "        engine=\"gpt-35-turbo\", # engine = \"deployment_name\".\n",
    "        messages=[\n",
    "            {\"role\": \"system\", \"content\": system_message},\n",
    "            {\"role\": \"user\", \"content\":user_message },\n",
    "        ]\n",
    "    )\n",
    "    return response['choices'][0]['message']['content']\n",
    "            \n",
    "\n",
    "problems=extract_problems(conversation)\n",
    "problems"
   ]
  },
  {
   "attachments": {},
   "cell_type": "markdown",
   "metadata": {},
   "source": [
    "### 3. Tool to find article given a problem"
   ]
  },
  {
   "cell_type": "code",
   "execution_count": 37,
   "metadata": {},
   "outputs": [
    {
     "data": {
      "text/plain": [
       "('article_3',\n",
       " \"4. Understanding Your W-2: A Guide for ADP Payroll Customers \\n\\nIf you are an employee whose payroll is managed by ADP, you will receive a W-2 form at the end of each fiscal year. This form summarizes your earnings and taxes paid throughout the year, and is necessary for filing your tax returns.\\n\\nTo help you understand the information displayed on your W-2 form, we've created this guide:\\n\\n1. Box 1 - Wages, tips, and other compensation: This box includes all taxable income earned during the year, including bonuses, overtime pay, and vacation pay.\\n\\n2. Box 2 - Federal income tax withheld: This box shows the total amount of federal income tax withheld from your paycheck throughout the year. This amount is based on your W-4 form, which you fill out when you are hired.\\n\\n3. Box 3 - Social Security wages: This box shows the total amount of wages that are subject to Social Security taxes. This includes all taxable income up to the Social Security wage base, which changes each year.\\n\\n4. Box 4 - Social Security tax withheld: This box displays the total amount of Social Security tax withheld from your paycheck during the year.\\n\\n5. Box 5 - Medicare wages and tips: This box displays the total amount of wages subject to Medicare taxes, which is all taxable income earned during the year.\\n\\n6. Box 6 - Medicare tax withheld: This box shows the total amount of Medicare tax withheld from your paycheck throughout the year.\\n\\n7. Box 12 - Other compensation: This box includes any other income earned that is not taxable, such as employer contributions to a 401(k) plan or the value of life insurance premiums.\\n\\nIt's important to review your W-2 form carefully to ensure that all information is correct. If you notice any discrepancies or errors, contact ADP immediately to request a correction.\\n\\nBy understanding the information displayed on your W-2 form, you can ensure that you are filing your taxes correctly and avoid any potential issues with the IRS. If you have any questions or concerns, don't hesitate to reach out to ADP's customer support team for assistance.\")"
      ]
     },
     "execution_count": 37,
     "metadata": {},
     "output_type": "execute_result"
    }
   ],
   "source": [
    "  import numpy as np  \n",
    "openai.api_version = \"2022-12-01\"\n",
    "\n",
    "def find_article(question):  \n",
    "    \"\"\"  \n",
    "    Given an input vector and a dictionary of label vectors,  \n",
    "    returns the label with the highest cosine similarity to the input vector.  \n",
    "    \"\"\"  \n",
    "    input_vector = get_embedding(question, engine = 'text-embedding-ada-002')\n",
    "    max_similarity = float('-inf')  \n",
    "    best_file_name = None  \n",
    "      \n",
    "    # Compute cosine similarity between input vector and each label vector  \n",
    "    for file_name, vector in articles_emb.items():  \n",
    "        cosine_similarity = np.dot(input_vector, vector) / (np.linalg.norm(input_vector) * np.linalg.norm(vector))  \n",
    "          \n",
    "        # Update max_similarity and max_label if necessary  \n",
    "        if cosine_similarity > max_similarity:  \n",
    "            max_similarity = cosine_similarity  \n",
    "            best_file_name = file_name  \n",
    "    content = articles[best_file_name]\n",
    "    return best_file_name, content\n",
    "question = \"When do I receive my W2 form?\"\n",
    "find_article(question)"
   ]
  },
  {
   "attachments": {},
   "cell_type": "markdown",
   "metadata": {},
   "source": [
    "### 4. Tool to answer question from the given problem"
   ]
  },
  {
   "cell_type": "code",
   "execution_count": 52,
   "metadata": {},
   "outputs": [
    {
     "name": "stdout",
     "output_type": "stream",
     "text": [
      "article  ('article_0', \"1. Understanding Your Paycheck: A Guide for ADP Payroll Customers \\n\\n1. Understanding Your Paycheck: A Guide for ADP Payroll Customers\\n\\nAs an ADP Payroll customer, you may receive your paycheck via direct deposit or a physical check. It is important to understand the different sections of your paycheck and what they represent. This guide will help you understand your paycheck and answer any questions you may have.\\n\\nGross Pay\\n\\nThe first section of your paycheck will show your gross pay. This is the amount of money you earned before any taxes, deductions, or contributions were taken out. Your gross pay may include regular pay, overtime pay, holiday pay, or any other additional compensation.\\n\\nTaxes\\n\\nThe next section of your paycheck will show the different taxes you are required to pay. This may include federal income tax, state income tax, Social Security tax, and Medicare tax. The amount of taxes you pay will depend on your income, your tax exemptions, and your state's tax laws.\\n\\nDeductions\\n\\nThe deductions section of your paycheck will show any money that was taken out of your paycheck before you received it. This may include health insurance premiums, retirement contributions, and any other voluntary deductions you have chosen to make. It is important to understand these deductions and their impact on your overall take-home pay.\\n\\nNet Pay\\n\\nYour net pay is the amount of money you receive after all taxes, deductions, and contributions have been taken out of your gross pay. This is the final amount that you will receive on your paycheck.\\n\\nPay Period\\n\\nYour paycheck will also show the pay period for which you are being paid. This may be a weekly, bi-weekly, or monthly pay period. Knowing your pay period will help you understand how often you are paid and when to expect your next paycheck.\\n\\nYear-to-Date Totals\\n\\nYour paycheck will include the year-to-date totals for your income, taxes, and contributions. This information will help you keep track of your earnings over the course of the year and prepare for tax season.\\n\\nIn conclusion, understanding your paycheck is important in managing your finances and planning for your future. If you have any questions about your paycheck or any other payroll-related issues, contact ADP customer support for assistance.\")\n",
      "Answer: The reason why your paycheck amount may be lower than expected could be because of deductions such as taxes or other voluntary contributions such as retirement or health insurance premiums. It is important to review the deductions section of your paycheck to understand how they impact your overall take-home pay. For further clarification, contact ADP customer support for assistance.\n",
      "Sources: [article_0]\n",
      "---------------content-----------------\n",
      "1. Understanding Your Paycheck: A Guide for ADP Payroll Customers \n",
      "\n",
      "1. Understanding Your Paycheck: A Guide for ADP Payroll Customers\n",
      "\n",
      "As an ADP Payroll customer, you may receive your paycheck via direct deposit or a physical check. It is important to understand the different sections of your paycheck and what they represent. This guide will help you understand your paycheck and answer any questions you may have.\n",
      "\n",
      "Gross Pay\n",
      "\n",
      "The first section of your paycheck will show your gross pay. This is the amount of money you earned before any taxes, deductions, or contributions were taken out. Your gross pay may include regular pay, overtime pay, holiday pay, or any other additional compensation.\n",
      "\n",
      "Taxes\n",
      "\n",
      "The next section of your paycheck will show the different taxes you are required to pay. This may include federal income tax, state income tax, Social Security tax, and Medicare tax. The amount of taxes you pay will depend on your income, your tax exemptions, and your state's tax laws.\n",
      "\n",
      "Deductions\n",
      "\n",
      "The deductions section of your paycheck will show any money that was taken out of your paycheck before you received it. This may include health insurance premiums, retirement contributions, and any other voluntary deductions you have chosen to make. It is important to understand these deductions and their impact on your overall take-home pay.\n",
      "\n",
      "Net Pay\n",
      "\n",
      "Your net pay is the amount of money you receive after all taxes, deductions, and contributions have been taken out of your gross pay. This is the final amount that you will receive on your paycheck.\n",
      "\n",
      "Pay Period\n",
      "\n",
      "Your paycheck will also show the pay period for which you are being paid. This may be a weekly, bi-weekly, or monthly pay period. Knowing your pay period will help you understand how often you are paid and when to expect your next paycheck.\n",
      "\n",
      "Year-to-Date Totals\n",
      "\n",
      "Your paycheck will include the year-to-date totals for your income, taxes, and contributions. This information will help you keep track of your earnings over the course of the year and prepare for tax season.\n",
      "\n",
      "In conclusion, understanding your paycheck is important in managing your finances and planning for your future. If you have any questions about your paycheck or any other payroll-related issues, contact ADP customer support for assistance.\n"
     ]
    }
   ],
   "source": [
    "openai.api_version = \"2023-03-15-preview\"\n",
    "\n",
    "def answer_assist(question):\n",
    "\n",
    "    article = find_article(question)\n",
    "    print(\"article \", article)\n",
    "\n",
    "    user_message =f\"\"\" \n",
    "    Question:{question}\n",
    "\n",
    "    <<knowledge articles>>\n",
    "    name of article: {article[0]}\n",
    "    content:\n",
    "    {article[1]}\n",
    "    <<knowledge articles>>\n",
    "    Your response:\n",
    " \n",
    "\"\"\"\n",
    "    system_message = \"\"\"\n",
    "    You are a senior customer support agent for ADP company. You listen to the conversation between an agent and a customer and assist the agent to resolve the problem.\n",
    "    Given the question or problem statement and the knowledge article you have, give the answer.\n",
    "    Rely solely to the guidance from the article.If the knowlege article is not relavant to the question, say you don't know. Do not make up your answer. \n",
    "    Cite the name of the knowledge article as source for your answer.\n",
    "    Format:\n",
    "    Answer: your answer to the question\n",
    "    Sources: [source1, source2]\n",
    "    \"\"\"\n",
    "\n",
    "    response = openai.ChatCompletion.create(\n",
    "        engine=\"gpt-35-turbo\", # engine = \"deployment_name\".\n",
    "        messages=[\n",
    "            {\"role\": \"system\", \"content\": system_message},\n",
    "            {\"role\": \"user\", \"content\":user_message },\n",
    "        ]\n",
    "    )\n",
    "    return response['choices'][0]['message']['content'], article\n",
    "\n",
    "question = \"Why is my paycheck amount lower than expected?\"\n",
    "answer, article = answer_assist(question)\n",
    "print(answer)\n",
    "print(\"---------------content-----------------\")\n",
    "\n",
    "print(article[1])"
   ]
  },
  {
   "attachments": {},
   "cell_type": "markdown",
   "metadata": {},
   "source": [
    "### 5. Put tools all together"
   ]
  },
  {
   "cell_type": "code",
   "execution_count": 55,
   "metadata": {},
   "outputs": [],
   "source": [
    "def demo():\n",
    "    conversation =generate_conversation()\n",
    "    print(f\"Conversation {conversation}\")\n",
    "    problems=extract_problems(conversation)\n",
    "    problems=json.loads(problems)\n",
    "    for problem in problems:\n",
    "        print(f\"Problem: {problem['problem']}\")\n",
    "        answer, article = answer_assist(problem['search_query'])\n",
    "        print(answer)\n",
    "        print(\"---------------content-----------------\")\n",
    "\n",
    "        print(article[1])\n",
    "        \n",
    "\n",
    "    "
   ]
  },
  {
   "cell_type": "code",
   "execution_count": 56,
   "metadata": {},
   "outputs": [
    {
     "name": "stdout",
     "output_type": "stream",
     "text": [
      "Conversation ADP Support Agent: Thank you for calling ADP, this is John speaking, how can I assist you today?\n",
      "\n",
      "Customer's Employee: Hi John, I have a question about my paycheck. It seems like there was a mistake and I am not sure how to fix it.\n",
      "\n",
      "ADP Support Agent: I'm here to help. Can you please tell me your name and the name of your company?\n",
      "\n",
      "Customer's Employee: Sure, my name is Jane Smith and I work for ABC Company.\n",
      "\n",
      "ADP Support Agent: Thank you, Jane. Can you give me a little more information about the mistake on your paycheck?\n",
      "\n",
      "Customer's Employee: Yes, it looks like my vacation time wasn't calculated properly and I didn't receive the correct amount of pay.\n",
      "\n",
      "ADP Support Agent: I'm sorry to hear that. Let me take a look at your account and see if I can identify the issue. Can you please hold for a moment?\n",
      "\n",
      "(Customer's Employee holds for a few minutes while the ADP Support Agent searches through the system)\n",
      "\n",
      "ADP Support Agent: Thank you for waiting, Jane. After reviewing your account, it appears that the system did not calculate your vacation time correctly. I am going to make sure that this is corrected and a new paycheck is issued to you with the correct amount of pay.\n",
      "\n",
      "Customer's Employee: Thank you, John. I appreciate your help.\n",
      "\n",
      "ADP Support Agent: Not a problem, Jane. I'm sorry for any inconvenience this may have caused you. If you have any other questions or concerns, feel free to give me a call back.\n",
      "Problem: Employee's paycheck had a mistake due to incorrect vacation time calculation\n",
      "article  ('article_35', \"36. ADP Time and Attendance: Troubleshooting Common Errors \\n\\nIntroduction\\nTime and Attendance systems play a vital role in managing employee hours, ensuring compliance with wage and hour laws, and ensuring timely and accurate payroll processing. However, sometimes errors may occur in the ADP Time and Attendance system, causing inconvenience and causing problems for employees. In this guide, we will cover some common issues that employees may face in the ADP Time and Attendance system and steps to troubleshoot them.\\n\\n1) Incorrect Punch Times\\nIssue: Sometimes, employees may notice that their punched in or out times are not recorded correctly.\\nTroubleshooting Steps: Employees should first check their physical time cards to ensure they have accurately punched in and out. If they believe their time card has been tampered with or that there is a discrepancy, they should contact their supervisor immediately. If the employee's punch was not recorded on a particular day, they should notify their supervisor to have the punch manually added.\\n\\n2) Missing Shifts\\nIssue: Some employees may not see their scheduled shifts in their Time and Attendance system and miss the shift.\\nTroubleshooting Steps: The employee should check with their supervisor to ensure their schedule is up to date and that they have been assigned the shift. If the assigned shift is missing, employees should contact their supervisor or HR manager immediately to have the shift added in the system.\\n\\n3) Incorrect or Multiple Time Off Requests\\nIssue: Employees may notice incorrect time off requests entered into the system or see duplicate requests.\\nTroubleshooting Steps: Employees should review their time off requests before submitting to ensure accuracy. If they notice discrepancies or duplicates, they should contact their supervisor or HR manager immediately to have the request corrected.\\n\\n4) Overtime Calculation\\nIssue: Some employees may notice that they are not paid for overtime hours worked.\\nTroubleshooting Steps: Employees should ensure that they are correctly classified as non-exempt and that they work over 40 hours per week or any other applicable overtime threshold. If an employee works overtime but has not received payment, they should notify their supervisor or HR manager immediately to rectify the issue.\\n\\n5) Incorrect Payroll Deductions\\nIssue: Employees may notice incorrect payroll deductions.\\nTroubleshooting Steps: Employees should review their pay stubs prior to signing to ensure accuracy. If there are any discrepancies in the deductions, the employee should contact their supervisor or HR manager immediately to rectify any inaccuracies.\\n\\nConclusion\\nIn ADP Time and Attendance, errors can occur that create inconveniences for employees. However, by following the above troubleshooting steps, employees can rectify any issues and ensure accurate records of their time worked. They should not hesitate to contact their HR manager or supervisor for any further assistance or clarification.\")\n",
      "Answer: To correct vacation time calculation in ADP payroll system, the employee should check if they have entered the correct vacation hours on their time card or time sheet. Additionally, the employee should contact their supervisor or HR manager immediately to have the vacation time added or corrected in the system. Source: [article_35]\n",
      "---------------content-----------------\n",
      "36. ADP Time and Attendance: Troubleshooting Common Errors \n",
      "\n",
      "Introduction\n",
      "Time and Attendance systems play a vital role in managing employee hours, ensuring compliance with wage and hour laws, and ensuring timely and accurate payroll processing. However, sometimes errors may occur in the ADP Time and Attendance system, causing inconvenience and causing problems for employees. In this guide, we will cover some common issues that employees may face in the ADP Time and Attendance system and steps to troubleshoot them.\n",
      "\n",
      "1) Incorrect Punch Times\n",
      "Issue: Sometimes, employees may notice that their punched in or out times are not recorded correctly.\n",
      "Troubleshooting Steps: Employees should first check their physical time cards to ensure they have accurately punched in and out. If they believe their time card has been tampered with or that there is a discrepancy, they should contact their supervisor immediately. If the employee's punch was not recorded on a particular day, they should notify their supervisor to have the punch manually added.\n",
      "\n",
      "2) Missing Shifts\n",
      "Issue: Some employees may not see their scheduled shifts in their Time and Attendance system and miss the shift.\n",
      "Troubleshooting Steps: The employee should check with their supervisor to ensure their schedule is up to date and that they have been assigned the shift. If the assigned shift is missing, employees should contact their supervisor or HR manager immediately to have the shift added in the system.\n",
      "\n",
      "3) Incorrect or Multiple Time Off Requests\n",
      "Issue: Employees may notice incorrect time off requests entered into the system or see duplicate requests.\n",
      "Troubleshooting Steps: Employees should review their time off requests before submitting to ensure accuracy. If they notice discrepancies or duplicates, they should contact their supervisor or HR manager immediately to have the request corrected.\n",
      "\n",
      "4) Overtime Calculation\n",
      "Issue: Some employees may notice that they are not paid for overtime hours worked.\n",
      "Troubleshooting Steps: Employees should ensure that they are correctly classified as non-exempt and that they work over 40 hours per week or any other applicable overtime threshold. If an employee works overtime but has not received payment, they should notify their supervisor or HR manager immediately to rectify the issue.\n",
      "\n",
      "5) Incorrect Payroll Deductions\n",
      "Issue: Employees may notice incorrect payroll deductions.\n",
      "Troubleshooting Steps: Employees should review their pay stubs prior to signing to ensure accuracy. If there are any discrepancies in the deductions, the employee should contact their supervisor or HR manager immediately to rectify any inaccuracies.\n",
      "\n",
      "Conclusion\n",
      "In ADP Time and Attendance, errors can occur that create inconveniences for employees. However, by following the above troubleshooting steps, employees can rectify any issues and ensure accurate records of their time worked. They should not hesitate to contact their HR manager or supervisor for any further assistance or clarification.\n"
     ]
    }
   ],
   "source": [
    "demo()"
   ]
  }
 ],
 "metadata": {
  "kernelspec": {
   "display_name": "forecasting",
   "language": "python",
   "name": "python3"
  },
  "language_info": {
   "codemirror_mode": {
    "name": "ipython",
    "version": 3
   },
   "file_extension": ".py",
   "mimetype": "text/x-python",
   "name": "python",
   "nbconvert_exporter": "python",
   "pygments_lexer": "ipython3",
   "version": "3.9.12"
  },
  "orig_nbformat": 4
 },
 "nbformat": 4,
 "nbformat_minor": 2
}
