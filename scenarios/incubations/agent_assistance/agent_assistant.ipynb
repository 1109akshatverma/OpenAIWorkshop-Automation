{
 "cells": [
  {
   "cell_type": "code",
   "execution_count": null,
   "metadata": {},
   "outputs": [],
   "source": [
    "import pandas as pd\n",
    "import re\n",
    "import openai\n",
    "import re\n",
    "import requests\n",
    "import pandas as pd\n",
    "from openai.embeddings_utils import get_embedding, cosine_similarity\n",
    "\n",
    "API_KEY = \"\"\n",
    "RESOURCE_ENDPOINT = \"\" \n",
    "\n",
    "openai.api_type = \"azure\"\n",
    "openai.api_key = API_KEY\n",
    "openai.api_base = RESOURCE_ENDPOINT\n",
    "#Note: The openai-python library support for Azure OpenAI is in preview.\n",
    "openai.api_version = \"2023-05-15\"\n",
    "\n"
   ]
  },
  {
   "attachments": {},
   "cell_type": "markdown",
   "metadata": {},
   "source": [
    "### Data generation (Skip this step if data is already generated )"
   ]
  },
  {
   "cell_type": "code",
   "execution_count": null,
   "metadata": {},
   "outputs": [],
   "source": [
    "user_message = \"\"\n",
    "def generate_titles():\n",
    "    user_message =f\"\"\" \n",
    "    generate 100 titles of customer support articles in your industry, focusing on the areas of payroll and HR that support agent can look up to answer questions from customers who are employees with payroll managed by ADP.\n",
    "    Output data into a list \n",
    " \n",
    "\"\"\"\n",
    "\n",
    "    response = openai.ChatCompletion.create(\n",
    "        engine=\"gpt-35-turbo\", # engine = \"deployment_name\".\n",
    "        messages=[\n",
    "            {\"role\": \"system\", \"content\": \"You are a customer support agent for ADP company\"},\n",
    "            {\"role\": \"user\", \"content\":user_message },\n",
    "        ]\n",
    "    )\n",
    "    return response['choices'][0]['message']['content']\n",
    "            \n",
    "\n",
    "titles = generate_titles()"
   ]
  },
  {
   "cell_type": "code",
   "execution_count": null,
   "metadata": {},
   "outputs": [],
   "source": [
    "titles = titles.split(\"\\n\")"
   ]
  },
  {
   "cell_type": "code",
   "execution_count": null,
   "metadata": {},
   "outputs": [],
   "source": [
    "titles[:10]"
   ]
  },
  {
   "cell_type": "code",
   "execution_count": null,
   "metadata": {},
   "outputs": [],
   "source": [
    "import time\n",
    "def generate_article(title):\n",
    "    user_message =f\"\"\" \n",
    "    given this title of an article \"{title}\" that support agents can look up to answer questions from customers who are employees with payroll managed by ADP.\n",
    "    Generate detail content of the article \n",
    " \n",
    "\"\"\"\n",
    "    i=0\n",
    "    while i<5:\n",
    "        try:\n",
    "            response = openai.ChatCompletion.create(\n",
    "                engine=\"gpt-35-turbo\", # engine = \"deployment_name\".\n",
    "                messages=[\n",
    "                    {\"role\": \"system\", \"content\": \"You are a customer support agent for ADP company\"},\n",
    "                    {\"role\": \"user\", \"content\":user_message },\n",
    "                ]\n",
    "            )\n",
    "            return response['choices'][0]['message']['content']\n",
    "        except:\n",
    "            i+=1\n",
    "            time.sleep(5)\n",
    "            \n",
    "\n",
    "contents =[]\n",
    "for title in titles:\n",
    "    contents.append(generate_article(title))"
   ]
  },
  {
   "cell_type": "code",
   "execution_count": null,
   "metadata": {},
   "outputs": [],
   "source": [
    "import os\n",
    "folder_path =\"../../../data/agent_assistant\"\n",
    "os.makedirs(folder_path, exist_ok=True)\n",
    "i=0\n",
    "articles ={}\n",
    "for title, content in zip(titles, contents):\n",
    "    file_name = f\"article_{i}\"\n",
    "    file_content = title+\"\\n\\n\"+content\n",
    "\n",
    "    with open(os.path.join(folder_path,file_name), 'w') as file:\n",
    "        file.write(file_content)\n",
    "\n",
    "    articles[file_name]= file_content\n",
    "    i+=1\n",
    "\n"
   ]
  },
  {
   "attachments": {},
   "cell_type": "markdown",
   "metadata": {},
   "source": [
    "#Generate embeddings"
   ]
  },
  {
   "cell_type": "code",
   "execution_count": null,
   "metadata": {},
   "outputs": [],
   "source": [
    "openai.api_version = \"2022-12-01\"\n",
    "\n",
    "articles_emb = {article[0]:get_embedding(article[1], engine = 'text-embedding-ada-002')for article in list(articles.items())}"
   ]
  },
  {
   "attachments": {},
   "cell_type": "markdown",
   "metadata": {},
   "source": [
    "### Persist data"
   ]
  },
  {
   "cell_type": "code",
   "execution_count": null,
   "metadata": {},
   "outputs": [],
   "source": [
    "import json\n",
    "\n",
    "with open(os.path.join(folder_path,\"articles_emb.json\"), \"w\") as fp:\n",
    "    json.dump(articles_emb,fp) \n",
    "\n",
    "with open(os.path.join(folder_path,\"articles.json\"), \"w\") as fp:\n",
    "    json.dump(articles,fp) \n"
   ]
  },
  {
   "attachments": {},
   "cell_type": "markdown",
   "metadata": {},
   "source": [
    "## Assistant Design"
   ]
  },
  {
   "attachments": {},
   "cell_type": "markdown",
   "metadata": {},
   "source": [
    "### Load data"
   ]
  },
  {
   "cell_type": "code",
   "execution_count": null,
   "metadata": {},
   "outputs": [],
   "source": [
    "import json\n",
    "import os\n",
    "folder_path =\"../../data/agent_assistant\"\n",
    "with open(os.path.join(folder_path, \"articles_emb.json\"), \"r\") as file:\n",
    "    articles_emb = json.load(file)\n",
    "with open(os.path.join(folder_path, \"articles.json\"), \"r\") as file:\n",
    "    articles = json.load(file)"
   ]
  },
  {
   "attachments": {},
   "cell_type": "markdown",
   "metadata": {},
   "source": [
    "### 1. Tool to generate conversation"
   ]
  },
  {
   "attachments": {},
   "cell_type": "markdown",
   "metadata": {},
   "source": []
  },
  {
   "cell_type": "code",
   "execution_count": null,
   "metadata": {},
   "outputs": [],
   "source": [
    "openai.api_version = \"2023-05-15\"\n",
    "\n",
    "def generate_conversation(streaming =False):\n",
    "    user_message =f\"\"\" \n",
    "    Generate a phone conversation between an customer's employee and an ADP support agent in the area of HR and Payroll. The employee has question and the support agent tried to identity the problems and \n",
    "    and take time to use different search tool to come up with answer to the employee.\n",
    "    Your response:\n",
    " \n",
    "\"\"\"\n",
    "    system_message = \"\"\"\n",
    "    You are a customer support agent for ADP company. \n",
    "\n",
    "    \"\"\"\n",
    "\n",
    "    response = openai.ChatCompletion.create(\n",
    "        engine=\"gpt-35-turbo\", # engine = \"deployment_name\".\n",
    "        messages=[\n",
    "            {\"role\": \"system\", \"content\": system_message},\n",
    "            {\"role\": \"user\", \"content\":user_message },\n",
    "        ],\n",
    "        stream=streaming\n",
    "    )\n",
    "    return response\n",
    "            \n"
   ]
  },
  {
   "attachments": {},
   "cell_type": "markdown",
   "metadata": {},
   "source": [
    "### 2. Tool to extract problems from conversation. "
   ]
  },
  {
   "cell_type": "code",
   "execution_count": null,
   "metadata": {},
   "outputs": [],
   "source": [
    "openai.api_version = \"2023-05-15\"\n",
    "\n",
    "user_message = \"\"\n",
    "def extract_problems(conversation):\n",
    "    user_message =f\"\"\" \n",
    "    Follow this on going conversation below and extract problems that each party may need help with and formulate the search query to the knowledge base search tool.\n",
    "    <<conversattion>>\n",
    "    {conversation}\n",
    "    <<conversattion>>\n",
    "    Output your response in JSON format {{\"problem\":\"summary of problem\", \"search_query\":\"content of search query\"}}\n",
    "    There can be more than 1 problem(s)\n",
    "    Output just JSON, nothing else.\n",
    "    Your response:\n",
    " \n",
    "\"\"\"\n",
    "    system_message = \"\"\"\n",
    "    You are a senior customer support agent for ADP company. You listen to the conversation between an agent and a customer and assist the agent to resolve the problem.\n",
    "    You are given access to knowledge base search tool to find knowledge needed to find answer to questions. \n",
    "\n",
    "    \"\"\"\n",
    "\n",
    "    response = openai.ChatCompletion.create(\n",
    "        engine=\"gpt-35-turbo\", # engine = \"deployment_name\".\n",
    "        messages=[\n",
    "            {\"role\": \"system\", \"content\": system_message},\n",
    "            {\"role\": \"user\", \"content\":user_message },\n",
    "        ]\n",
    "    )\n",
    "    return response['choices'][0]['message']['content']\n",
    "            \n",
    "conversation=generate_conversation()['choices'][0]['message']['content']\n",
    "problems=extract_problems(conversation)\n",
    "problems"
   ]
  },
  {
   "attachments": {},
   "cell_type": "markdown",
   "metadata": {},
   "source": [
    "### 3. Tool to find article given a problem"
   ]
  },
  {
   "attachments": {},
   "cell_type": "markdown",
   "metadata": {},
   "source": [
    "##### Brute Force method"
   ]
  },
  {
   "cell_type": "code",
   "execution_count": 86,
   "metadata": {},
   "outputs": [
    {
     "data": {
      "text/plain": [
       "(['article_3', 'article_0', 'article_7'],\n",
       " [\"4. Understanding Your W-2: A Guide for ADP Payroll Customers \\n\\nIf you are an employee whose payroll is managed by ADP, you will receive a W-2 form at the end of each fiscal year. This form summarizes your earnings and taxes paid throughout the year, and is necessary for filing your tax returns.\\n\\nTo help you understand the information displayed on your W-2 form, we've created this guide:\\n\\n1. Box 1 - Wages, tips, and other compensation: This box includes all taxable income earned during the year, including bonuses, overtime pay, and vacation pay.\\n\\n2. Box 2 - Federal income tax withheld: This box shows the total amount of federal income tax withheld from your paycheck throughout the year. This amount is based on your W-4 form, which you fill out when you are hired.\\n\\n3. Box 3 - Social Security wages: This box shows the total amount of wages that are subject to Social Security taxes. This includes all taxable income up to the Social Security wage base, which changes each year.\\n\\n4. Box 4 - Social Security tax withheld: This box displays the total amount of Social Security tax withheld from your paycheck during the year.\\n\\n5. Box 5 - Medicare wages and tips: This box displays the total amount of wages subject to Medicare taxes, which is all taxable income earned during the year.\\n\\n6. Box 6 - Medicare tax withheld: This box shows the total amount of Medicare tax withheld from your paycheck throughout the year.\\n\\n7. Box 12 - Other compensation: This box includes any other income earned that is not taxable, such as employer contributions to a 401(k) plan or the value of life insurance premiums.\\n\\nIt's important to review your W-2 form carefully to ensure that all information is correct. If you notice any discrepancies or errors, contact ADP immediately to request a correction.\\n\\nBy understanding the information displayed on your W-2 form, you can ensure that you are filing your taxes correctly and avoid any potential issues with the IRS. If you have any questions or concerns, don't hesitate to reach out to ADP's customer support team for assistance.\",\n",
       "  \"1. Understanding Your Paycheck: A Guide for ADP Payroll Customers \\n\\n1. Understanding Your Paycheck: A Guide for ADP Payroll Customers\\n\\nAs an ADP Payroll customer, you may receive your paycheck via direct deposit or a physical check. It is important to understand the different sections of your paycheck and what they represent. This guide will help you understand your paycheck and answer any questions you may have.\\n\\nGross Pay\\n\\nThe first section of your paycheck will show your gross pay. This is the amount of money you earned before any taxes, deductions, or contributions were taken out. Your gross pay may include regular pay, overtime pay, holiday pay, or any other additional compensation.\\n\\nTaxes\\n\\nThe next section of your paycheck will show the different taxes you are required to pay. This may include federal income tax, state income tax, Social Security tax, and Medicare tax. The amount of taxes you pay will depend on your income, your tax exemptions, and your state's tax laws.\\n\\nDeductions\\n\\nThe deductions section of your paycheck will show any money that was taken out of your paycheck before you received it. This may include health insurance premiums, retirement contributions, and any other voluntary deductions you have chosen to make. It is important to understand these deductions and their impact on your overall take-home pay.\\n\\nNet Pay\\n\\nYour net pay is the amount of money you receive after all taxes, deductions, and contributions have been taken out of your gross pay. This is the final amount that you will receive on your paycheck.\\n\\nPay Period\\n\\nYour paycheck will also show the pay period for which you are being paid. This may be a weekly, bi-weekly, or monthly pay period. Knowing your pay period will help you understand how often you are paid and when to expect your next paycheck.\\n\\nYear-to-Date Totals\\n\\nYour paycheck will include the year-to-date totals for your income, taxes, and contributions. This information will help you keep track of your earnings over the course of the year and prepare for tax season.\\n\\nIn conclusion, understanding your paycheck is important in managing your finances and planning for your future. If you have any questions about your paycheck or any other payroll-related issues, contact ADP customer support for assistance.\",\n",
       "  '8. Understanding Your ADP Pay Stub: What You Need to Know \\n\\nIntroduction \\nAs an employee whose payroll is managed by ADP, understanding your pay stub is important. Your pay stub is a statement that shows you how much money you earned for a particular pay period, as well as deductions made from your earnings. In this article, we will help you understand how to read and understand your ADP pay stub.\\n\\n1. Gross Pay \\nThis is the total amount of money you have earned during the pay period including your regular wages, overtime pay, bonuses and commissions. It is the amount of money you earned before any deductions were made.\\n\\n2. Federal Taxes \\nThese are taxes that are paid to the federal government. The amount withheld will depend on the amount of money you earn and the exemptions claimed on your W-4 form. If you have any questions about your exemptions, you should speak with your HR department or a tax professional.\\n\\n3. State Taxes \\nThese are taxes that are paid to your state of residence. Like federal taxes, the amount withheld will depend on your earnings and exemptions claimed on your W-4 form.\\n\\n4. Social Security and Medicare \\nThese are taxes that are paid to the federal government to fund Social Security and Medicare programs. These deductions are based on a percentage of your earnings.\\n\\n5. Retirement Savings Plan \\nIf you are enrolled in a company-sponsored retirement savings plan, such as a 401(k), your contributions will be listed on your pay stub. This deduction reduces your taxable income and helps you save for retirement.\\n\\n6. Health Insurance \\nIf you have health insurance through your employer, your premium payments may be deducted from your paycheck. The amount deducted will depend on the type of plan you have and the amount your employer pays.\\n\\n7. Other Deductions \\nYour pay stub may also include other deductions such as union dues, garnishments or wage attachments, or additional voluntary contributions to your retirement savings plan.\\n\\n8. Net Pay \\nThis is your take-home pay after all of your deductions have been made. It is the amount of money that will be deposited into your bank account or given to you in a paycheck.\\n\\nConclusion \\nUnderstanding your ADP pay stub is important for managing your finances and preparing your tax returns. By knowing how to read and interpret the various sections of your pay stub, you can better understand your earnings and deductions, and make any necessary adjustments to your payroll withholdings. If you have any questions or need further assistance, don’t hesitate to reach out to your HR department or ADP support team.'])"
      ]
     },
     "execution_count": 86,
     "metadata": {},
     "output_type": "execute_result"
    }
   ],
   "source": [
    "import numpy as np  \n",
    "openai.api_version = \"2022-12-01\"\n",
    "\n",
    "def find_article(question, topk=3):  \n",
    "    \"\"\"  \n",
    "    Given an input vector and a dictionary of label vectors,  \n",
    "    returns the label with the highest cosine similarity to the input vector.  \n",
    "    \"\"\"  \n",
    "    input_vector = get_embedding(question, engine = 'text-embedding-ada-002')\n",
    "    max_similarity = float('-inf')  \n",
    "    best_file_name = None  \n",
    "      \n",
    "    # Compute cosine similarity between input vector and each label vector\n",
    "    cosine_list=[]  \n",
    "    for file_name, vector in articles_emb.items():  \n",
    "        cosine_sim = cosine_similarity(input_vector, vector) \n",
    "        cosine_list.append((file_name,cosine_sim ))\n",
    "    cosine_list.sort(key=lambda x:x[1],reverse=True)\n",
    "    cosine_list= cosine_list[:topk]\n",
    "    best_file_names = [file_name[0] for file_name in cosine_list]\n",
    "    contents = [articles[best_file_name] for best_file_name in best_file_names]\n",
    "    return best_file_names, contents\n",
    "question = \"When do I receive my W2 form?\"\n",
    "find_article(question)"
   ]
  },
  {
   "attachments": {},
   "cell_type": "markdown",
   "metadata": {},
   "source": [
    "#### Vector Searh Lib (Faiss) method"
   ]
  },
  {
   "cell_type": "code",
   "execution_count": 87,
   "metadata": {},
   "outputs": [
    {
     "data": {
      "text/plain": [
       "(['article_3', 'article_0', 'article_7'],\n",
       " [\"4. Understanding Your W-2: A Guide for ADP Payroll Customers \\n\\nIf you are an employee whose payroll is managed by ADP, you will receive a W-2 form at the end of each fiscal year. This form summarizes your earnings and taxes paid throughout the year, and is necessary for filing your tax returns.\\n\\nTo help you understand the information displayed on your W-2 form, we've created this guide:\\n\\n1. Box 1 - Wages, tips, and other compensation: This box includes all taxable income earned during the year, including bonuses, overtime pay, and vacation pay.\\n\\n2. Box 2 - Federal income tax withheld: This box shows the total amount of federal income tax withheld from your paycheck throughout the year. This amount is based on your W-4 form, which you fill out when you are hired.\\n\\n3. Box 3 - Social Security wages: This box shows the total amount of wages that are subject to Social Security taxes. This includes all taxable income up to the Social Security wage base, which changes each year.\\n\\n4. Box 4 - Social Security tax withheld: This box displays the total amount of Social Security tax withheld from your paycheck during the year.\\n\\n5. Box 5 - Medicare wages and tips: This box displays the total amount of wages subject to Medicare taxes, which is all taxable income earned during the year.\\n\\n6. Box 6 - Medicare tax withheld: This box shows the total amount of Medicare tax withheld from your paycheck throughout the year.\\n\\n7. Box 12 - Other compensation: This box includes any other income earned that is not taxable, such as employer contributions to a 401(k) plan or the value of life insurance premiums.\\n\\nIt's important to review your W-2 form carefully to ensure that all information is correct. If you notice any discrepancies or errors, contact ADP immediately to request a correction.\\n\\nBy understanding the information displayed on your W-2 form, you can ensure that you are filing your taxes correctly and avoid any potential issues with the IRS. If you have any questions or concerns, don't hesitate to reach out to ADP's customer support team for assistance.\",\n",
       "  \"1. Understanding Your Paycheck: A Guide for ADP Payroll Customers \\n\\n1. Understanding Your Paycheck: A Guide for ADP Payroll Customers\\n\\nAs an ADP Payroll customer, you may receive your paycheck via direct deposit or a physical check. It is important to understand the different sections of your paycheck and what they represent. This guide will help you understand your paycheck and answer any questions you may have.\\n\\nGross Pay\\n\\nThe first section of your paycheck will show your gross pay. This is the amount of money you earned before any taxes, deductions, or contributions were taken out. Your gross pay may include regular pay, overtime pay, holiday pay, or any other additional compensation.\\n\\nTaxes\\n\\nThe next section of your paycheck will show the different taxes you are required to pay. This may include federal income tax, state income tax, Social Security tax, and Medicare tax. The amount of taxes you pay will depend on your income, your tax exemptions, and your state's tax laws.\\n\\nDeductions\\n\\nThe deductions section of your paycheck will show any money that was taken out of your paycheck before you received it. This may include health insurance premiums, retirement contributions, and any other voluntary deductions you have chosen to make. It is important to understand these deductions and their impact on your overall take-home pay.\\n\\nNet Pay\\n\\nYour net pay is the amount of money you receive after all taxes, deductions, and contributions have been taken out of your gross pay. This is the final amount that you will receive on your paycheck.\\n\\nPay Period\\n\\nYour paycheck will also show the pay period for which you are being paid. This may be a weekly, bi-weekly, or monthly pay period. Knowing your pay period will help you understand how often you are paid and when to expect your next paycheck.\\n\\nYear-to-Date Totals\\n\\nYour paycheck will include the year-to-date totals for your income, taxes, and contributions. This information will help you keep track of your earnings over the course of the year and prepare for tax season.\\n\\nIn conclusion, understanding your paycheck is important in managing your finances and planning for your future. If you have any questions about your paycheck or any other payroll-related issues, contact ADP customer support for assistance.\",\n",
       "  '8. Understanding Your ADP Pay Stub: What You Need to Know \\n\\nIntroduction \\nAs an employee whose payroll is managed by ADP, understanding your pay stub is important. Your pay stub is a statement that shows you how much money you earned for a particular pay period, as well as deductions made from your earnings. In this article, we will help you understand how to read and understand your ADP pay stub.\\n\\n1. Gross Pay \\nThis is the total amount of money you have earned during the pay period including your regular wages, overtime pay, bonuses and commissions. It is the amount of money you earned before any deductions were made.\\n\\n2. Federal Taxes \\nThese are taxes that are paid to the federal government. The amount withheld will depend on the amount of money you earn and the exemptions claimed on your W-4 form. If you have any questions about your exemptions, you should speak with your HR department or a tax professional.\\n\\n3. State Taxes \\nThese are taxes that are paid to your state of residence. Like federal taxes, the amount withheld will depend on your earnings and exemptions claimed on your W-4 form.\\n\\n4. Social Security and Medicare \\nThese are taxes that are paid to the federal government to fund Social Security and Medicare programs. These deductions are based on a percentage of your earnings.\\n\\n5. Retirement Savings Plan \\nIf you are enrolled in a company-sponsored retirement savings plan, such as a 401(k), your contributions will be listed on your pay stub. This deduction reduces your taxable income and helps you save for retirement.\\n\\n6. Health Insurance \\nIf you have health insurance through your employer, your premium payments may be deducted from your paycheck. The amount deducted will depend on the type of plan you have and the amount your employer pays.\\n\\n7. Other Deductions \\nYour pay stub may also include other deductions such as union dues, garnishments or wage attachments, or additional voluntary contributions to your retirement savings plan.\\n\\n8. Net Pay \\nThis is your take-home pay after all of your deductions have been made. It is the amount of money that will be deposited into your bank account or given to you in a paycheck.\\n\\nConclusion \\nUnderstanding your ADP pay stub is important for managing your finances and preparing your tax returns. By knowing how to read and interpret the various sections of your pay stub, you can better understand your earnings and deductions, and make any necessary adjustments to your payroll withholdings. If you have any questions or need further assistance, don’t hesitate to reach out to your HR department or ADP support team.'])"
      ]
     },
     "execution_count": 87,
     "metadata": {},
     "output_type": "execute_result"
    }
   ],
   "source": [
    "import numpy as np  \n",
    "import faiss\n",
    "\n",
    "openai.api_version = \"2022-12-01\"\n",
    "#Get the array of embeddings for all articles\n",
    "file_names =[]\n",
    "emb_vectors = []\n",
    "for file_name, vector in articles_emb.items():  \n",
    "    file_names.append(file_name)\n",
    "    emb_vectors.append(vector)\n",
    "emb_vectors = np.float32(emb_vectors)\n",
    "faiss.normalize_L2(emb_vectors)\n",
    "\n",
    "index = faiss.IndexFlatIP(len(vector)) \n",
    "index.add(emb_vectors)\n",
    "\n",
    "\n",
    "def find_article_emb_vec(question, topk=3):  \n",
    "    output_articles=[]\n",
    "    output_contents =[]\n",
    "    \"\"\"  \n",
    "    Given an input vector and a dictionary of label vectors,  \n",
    "    returns the label with the highest cosine similarity to the input vector.  \n",
    "    \"\"\"  \n",
    "    input_vector = get_embedding(question, engine = 'text-embedding-ada-002')\n",
    "    input_vector = np.float32([input_vector])\n",
    "    faiss.normalize_L2(input_vector)\n",
    "    _,i = index.search(input_vector, k=topk)\n",
    "    for idx in i[0]:\n",
    "        output_articles.append(file_names[idx])\n",
    "        output_contents.append(articles[file_names[idx]])\n",
    "\n",
    "    return output_articles, output_contents\n",
    "question = \"When do I receive my W2 form?\"\n",
    "find_article_emb_vec(question,3)"
   ]
  },
  {
   "attachments": {},
   "cell_type": "markdown",
   "metadata": {},
   "source": [
    "### 4. Tool to answer question from the given problem"
   ]
  },
  {
   "cell_type": "code",
   "execution_count": null,
   "metadata": {},
   "outputs": [],
   "source": [
    "openai.api_version = \"2023-03-15-preview\"\n",
    "\n",
    "def answer_assist(problem, search_query):\n",
    "\n",
    "    articles, contents = find_article_emb_vec(search_query,2)\n",
    "    articles_contents=\"\"\n",
    "    for article, content in zip(articles, contents):\n",
    "        articles_contents += f\"\"\" \n",
    "        article:{article}\n",
    "        content: {content}\n",
    "    \"\"\"\n",
    "    articles_contents = f\"\"\"\n",
    "    <<knowledge articles>>\n",
    "    {articles_contents}\n",
    "    <<knowledge articles>>\n",
    "    \"\"\"\n",
    "    user_message =f\"\"\" \n",
    "    problem:{problem}\n",
    "    {articles_contents}\n",
    "    Your response:\n",
    "\"\"\"\n",
    "    system_message = \"\"\"\n",
    "    You are a senior customer support agent for ADP company. You listen to the conversation between an agent and a customer and assist the agent to resolve the problem.\n",
    "    Given the question or problem statement and the knowledge article you have, give the answer.\n",
    "    Rely solely to the guidance from the article.If the knowlege article is not relavant to the question, say you don't know. Do not make up your answer. \n",
    "    Cite the name of the knowledge article as source for your answer.\n",
    "    Format:\n",
    "    Answer: your answer to the question\n",
    "    Sources: [source1, source2]\n",
    "    \"\"\"\n",
    "\n",
    "    response = openai.ChatCompletion.create(\n",
    "        engine=\"gpt-35-turbo\", # engine = \"deployment_name\".\n",
    "        messages=[\n",
    "            {\"role\": \"system\", \"content\": system_message},\n",
    "            {\"role\": \"user\", \"content\":user_message },\n",
    "        ]\n",
    "    )\n",
    "    return response['choices'][0]['message']['content'], articles_contents\n",
    "\n",
    "question = \"When do I receive my W2 form?\"\n",
    "answer, articles_contents = answer_assist(question,question)\n",
    "print(answer)\n",
    "print(\"---------------content-----------------\")\n",
    "\n",
    "print(articles_contents)"
   ]
  },
  {
   "attachments": {},
   "cell_type": "markdown",
   "metadata": {},
   "source": [
    "### 5. Put tools all together"
   ]
  },
  {
   "cell_type": "code",
   "execution_count": null,
   "metadata": {},
   "outputs": [],
   "source": [
    "def recommend(conversation):\n",
    "    i=0\n",
    "    while (i<5): #handle wrong format output\n",
    "        problems=extract_problems(conversation)\n",
    "        try:\n",
    "            problems=json.loads(problems)\n",
    "            print(\"problems\", problems)\n",
    "            for problem in problems:\n",
    "                answer, articles_contents = answer_assist(problem['problem'],problem['search_query'])\n",
    "                print(answer)\n",
    "                print(\"---------------content-----------------\")\n",
    "\n",
    "                print(articles_contents)\n",
    "            break\n",
    "\n",
    "        except Exception as e:\n",
    "            print(e)\n",
    "            print(\"problem parsing json, problems string is \", problems)\n",
    "            i+=1\n",
    "\n",
    "        \n",
    "\n"
   ]
  },
  {
   "attachments": {},
   "cell_type": "markdown",
   "metadata": {},
   "source": [
    "### One time conversation "
   ]
  },
  {
   "cell_type": "code",
   "execution_count": null,
   "metadata": {},
   "outputs": [],
   "source": [
    "conversation =generate_conversation()['choices'][0]['message']['content']\n",
    "print(f\"Conversation {conversation}\")\n",
    "recommend(conversation)        \n",
    "\n",
    "    "
   ]
  },
  {
   "attachments": {},
   "cell_type": "markdown",
   "metadata": {},
   "source": [
    "### Simulate a running conversation "
   ]
  },
  {
   "cell_type": "code",
   "execution_count": null,
   "metadata": {},
   "outputs": [],
   "source": [
    "import concurrent\n",
    "openai.api_version = \"2023-05-15\"\n",
    "import time\n",
    "conversation_pause_duration=2\n",
    "agent_assist_freq=5\n",
    "conversation_buffer =[]\n",
    "def stream_conversation(conversation_buffer, pause_duration=5):\n",
    "    responses = generate_conversation(True)\n",
    "    conversation_counter =0\n",
    "    old_conversation_counter =0\n",
    "    for response in responses:\n",
    "        content = response['choices'][0][\"delta\"].get(\"content\",\"\")\n",
    "        conversation_buffer.append(content) \n",
    "        if \"\\n\"  not in content:\n",
    "            print(content, end=\"\")\n",
    "        else:\n",
    "            conversation_counter+=1\n",
    "            if conversation_counter > old_conversation_counter+2:\n",
    "                conversation = \"\".join(conversation_buffer)\n",
    "                print(\"starting recommendation\")\n",
    "                print(\"conversation: \", conversation)\n",
    "                recommend(conversation)\n",
    "                print(\"ending recommendation\")\n",
    "                old_conversation_counter=conversation_counter\n",
    "\n",
    "\n",
    "\n",
    "        \n",
    "stream_conversation(conversation_buffer,conversation_pause_duration)"
   ]
  },
  {
   "cell_type": "code",
   "execution_count": null,
   "metadata": {},
   "outputs": [],
   "source": []
  }
 ],
 "metadata": {
  "kernelspec": {
   "display_name": "forecasting",
   "language": "python",
   "name": "python3"
  },
  "language_info": {
   "codemirror_mode": {
    "name": "ipython",
    "version": 3
   },
   "file_extension": ".py",
   "mimetype": "text/x-python",
   "name": "python",
   "nbconvert_exporter": "python",
   "pygments_lexer": "ipython3",
   "version": "3.9.12"
  },
  "orig_nbformat": 4
 },
 "nbformat": 4,
 "nbformat_minor": 2
}
